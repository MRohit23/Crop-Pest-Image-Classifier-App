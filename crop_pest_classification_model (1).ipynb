{
  "cells": [
    {
      "cell_type": "code",
      "execution_count": null,
      "metadata": {
        "id": "NdHO2xbFsF2d"
      },
      "outputs": [],
      "source": [
        "from tensorflow.keras.layers import Conv2D,Flatten,Dense,MaxPool2D,BatchNormalization, GlobalAveragePooling2D\n",
        "from tensorflow.keras.applications.resnet50 import preprocess_input, decode_predictions\n",
        "from tensorflow.keras.preprocessing.image import ImageDataGenerator,load_img\n",
        "from tensorflow.keras.applications.resnet50 import ResNet50\n",
        "from tensorflow.keras.preprocessing import image\n",
        "from tensorflow.keras.models import Sequential\n",
        "from tensorflow.keras.models import Model\n",
        "import numpy as np"
      ]
    },
    {
      "cell_type": "code",
      "execution_count": null,
      "metadata": {
        "colab": {
          "base_uri": "https://localhost:8080/"
        },
        "id": "z_0VaBNGwPoU",
        "outputId": "51661845-e450-48e9-9306-04085be90455"
      },
      "outputs": [
        {
          "name": "stdout",
          "output_type": "stream",
          "text": [
            "Collecting split_folders\n",
            "  Downloading split_folders-0.5.1-py3-none-any.whl (8.4 kB)\n",
            "Installing collected packages: split_folders\n",
            "Successfully installed split_folders-0.5.1\n"
          ]
        }
      ],
      "source": [
        "!pip install split_folders"
      ]
    },
    {
      "cell_type": "code",
      "execution_count": null,
      "metadata": {
        "id": "EoSnAoMGwYn1"
      },
      "outputs": [],
      "source": [
        "import splitfolders"
      ]
    },
    {
      "cell_type": "code",
      "execution_count": null,
      "metadata": {
        "id": "CDek_gCZwcrj"
      },
      "outputs": [],
      "source": []
    },
    {
      "cell_type": "code",
      "execution_count": null,
      "metadata": {
        "id": "Q8b3lJpuwcyI"
      },
      "outputs": [],
      "source": []
    },
    {
      "cell_type": "code",
      "execution_count": null,
      "metadata": {
        "colab": {
          "base_uri": "https://localhost:8080/"
        },
        "id": "Lsv9DLq9tY7M",
        "outputId": "b538563b-f36a-422b-d543-941ea6710086"
      },
      "outputs": [
        {
          "output_type": "stream",
          "name": "stdout",
          "text": [
            "Mounted at /content/drive\n",
            " archive      'Colab Notebooks'   processed_data   resnet50_0.497.pkl\n",
            " archive.zip   DATASET\t\t  processedData    ResNet50_Pest.h5\n"
          ]
        }
      ],
      "source": [
        "from google.colab import drive\n",
        "drive.mount('/content/drive')\n",
        "!ls '/content/drive/My Drive'"
      ]
    },
    {
      "cell_type": "code",
      "execution_count": null,
      "metadata": {
        "colab": {
          "base_uri": "https://localhost:8080/"
        },
        "id": "TD4guLOvwhpf",
        "outputId": "ea793004-93cf-4851-a252-aca128551e7a"
      },
      "outputs": [
        {
          "name": "stderr",
          "output_type": "stream",
          "text": [
            "\n",
            "Copying files: 0 files [00:00, ? files/s]\u001b[A\n",
            "Copying files: 1 files [00:00,  6.31 files/s]\u001b[A\n",
            "Copying files: 7 files [00:00, 31.33 files/s]\u001b[A\n",
            "Copying files: 12 files [00:00, 36.47 files/s]\u001b[A\n",
            "Copying files: 18 files [00:00, 43.95 files/s]\u001b[A\n",
            "Copying files: 24 files [00:00, 44.38 files/s]\u001b[A\n",
            "Copying files: 31 files [00:00, 49.50 files/s]\u001b[A\n",
            "Copying files: 37 files [00:00, 49.01 files/s]\u001b[A\n",
            "Copying files: 43 files [00:00, 51.61 files/s]\u001b[A\n",
            "Copying files: 49 files [00:01, 51.09 files/s]\u001b[A\n",
            "Copying files: 56 files [00:01, 54.26 files/s]\u001b[A\n",
            "Copying files: 62 files [00:01, 52.31 files/s]\u001b[A\n",
            "Copying files: 69 files [00:01, 54.94 files/s]\u001b[A\n",
            "Copying files: 75 files [00:01, 52.50 files/s]\u001b[A\n",
            "Copying files: 81 files [00:01, 54.08 files/s]\u001b[A\n",
            "Copying files: 87 files [00:01, 51.00 files/s]\u001b[A\n",
            "Copying files: 93 files [00:01, 53.34 files/s]\u001b[A\n",
            "Copying files: 99 files [00:02, 52.07 files/s]\u001b[A\n",
            "Copying files: 105 files [00:02, 53.46 files/s]\u001b[A\n",
            "Copying files: 111 files [00:02, 51.89 files/s]\u001b[A\n",
            "Copying files: 117 files [00:02, 53.12 files/s]\u001b[A\n",
            "Copying files: 123 files [00:02, 50.62 files/s]\u001b[A\n",
            "Copying files: 129 files [00:02, 52.15 files/s]\u001b[A\n",
            "Copying files: 135 files [00:02, 51.51 files/s]\u001b[A\n",
            "Copying files: 142 files [00:02, 50.97 files/s]\u001b[A\n",
            "Copying files: 148 files [00:02, 48.15 files/s]\u001b[A\n",
            "Copying files: 155 files [00:03, 51.92 files/s]\u001b[A\n",
            "Copying files: 161 files [00:03, 50.36 files/s]\u001b[A\n",
            "Copying files: 167 files [00:03, 51.83 files/s]\u001b[A\n",
            "Copying files: 173 files [00:03, 50.95 files/s]\u001b[A\n",
            "Copying files: 179 files [00:03, 50.23 files/s]\u001b[A\n",
            "Copying files: 186 files [00:03, 53.25 files/s]\u001b[A\n",
            "Copying files: 192 files [00:03, 51.15 files/s]\u001b[A\n",
            "Copying files: 199 files [00:03, 54.89 files/s]\u001b[A\n",
            "Copying files: 205 files [00:04, 53.74 files/s]\u001b[A\n",
            "Copying files: 211 files [00:04, 54.74 files/s]\u001b[A\n",
            "Copying files: 217 files [00:04, 51.85 files/s]\u001b[A\n",
            "Copying files: 223 files [00:04, 53.94 files/s]\u001b[A\n",
            "Copying files: 229 files [00:04, 52.45 files/s]\u001b[A\n",
            "Copying files: 236 files [00:04, 54.97 files/s]\u001b[A\n",
            "Copying files: 242 files [00:04, 52.41 files/s]\u001b[A\n",
            "Copying files: 249 files [00:04, 52.40 files/s]\u001b[A\n",
            "Copying files: 256 files [00:05, 55.92 files/s]\u001b[A\n",
            "Copying files: 262 files [00:05, 54.43 files/s]\u001b[A\n",
            "Copying files: 269 files [00:05, 56.83 files/s]\u001b[A\n",
            "Copying files: 275 files [00:05, 53.68 files/s]\u001b[A\n",
            "Copying files: 282 files [00:05, 56.12 files/s]\u001b[A\n",
            "Copying files: 288 files [00:05, 53.21 files/s]\u001b[A\n",
            "Copying files: 295 files [00:05, 56.32 files/s]\u001b[A\n",
            "Copying files: 301 files [00:05, 42.56 files/s]\u001b[A\n",
            "Copying files: 307 files [00:06, 46.35 files/s]\u001b[A\n",
            "Copying files: 313 files [00:06, 46.05 files/s]\u001b[A\n",
            "Copying files: 320 files [00:06, 51.12 files/s]\u001b[A\n",
            "Copying files: 326 files [00:06, 50.79 files/s]\u001b[A\n",
            "Copying files: 332 files [00:06, 52.64 files/s]\u001b[A\n",
            "Copying files: 338 files [00:06, 52.13 files/s]\u001b[A\n",
            "Copying files: 344 files [00:06, 36.58 files/s]\u001b[A\n",
            "Copying files: 351 files [00:07, 42.76 files/s]\u001b[A\n",
            "Copying files: 357 files [00:07, 44.47 files/s]\u001b[A\n",
            "Copying files: 364 files [00:07, 47.42 files/s]\u001b[A\n",
            "Copying files: 371 files [00:07, 51.09 files/s]\u001b[A\n",
            "Copying files: 377 files [00:07, 49.57 files/s]\u001b[A\n",
            "Copying files: 384 files [00:07, 52.78 files/s]\u001b[A\n",
            "Copying files: 390 files [00:07, 51.69 files/s]\u001b[A\n",
            "Copying files: 396 files [00:07, 53.68 files/s]\u001b[A\n",
            "Copying files: 402 files [00:07, 52.06 files/s]\u001b[A\n",
            "Copying files: 408 files [00:08, 53.51 files/s]\u001b[A\n",
            "Copying files: 414 files [00:08, 51.12 files/s]\u001b[A\n",
            "Copying files: 421 files [00:08, 54.31 files/s]\u001b[A\n",
            "Copying files: 427 files [00:08, 52.86 files/s]\u001b[A\n",
            "Copying files: 433 files [00:08, 54.58 files/s]\u001b[A\n",
            "Copying files: 439 files [00:08, 51.88 files/s]\u001b[A\n",
            "Copying files: 446 files [00:08, 54.83 files/s]\u001b[A\n",
            "Copying files: 452 files [00:08, 52.86 files/s]\u001b[A\n",
            "Copying files: 459 files [00:09, 53.04 files/s]\u001b[A\n",
            "Copying files: 465 files [00:09, 54.84 files/s]\u001b[A\n",
            "Copying files: 471 files [00:09, 52.54 files/s]\u001b[A\n",
            "Copying files: 477 files [00:09, 53.02 files/s]\u001b[A\n",
            "Copying files: 483 files [00:09, 51.48 files/s]\u001b[A\n",
            "Copying files: 490 files [00:09, 55.13 files/s]\u001b[A\n",
            "Copying files: 496 files [00:09, 54.14 files/s]\u001b[A\n",
            "Copying files: 504 files [00:09, 58.52 files/s]\u001b[A\n",
            "Copying files: 510 files [00:09, 55.77 files/s]\u001b[A\n",
            "Copying files: 517 files [00:10, 55.61 files/s]\u001b[A\n",
            "Copying files: 524 files [00:10, 59.13 files/s]\u001b[A\n",
            "Copying files: 530 files [00:10, 56.06 files/s]\u001b[A\n",
            "Copying files: 538 files [00:10, 60.52 files/s]\u001b[A\n",
            "Copying files: 545 files [00:10, 51.76 files/s]\u001b[A\n",
            "Copying files: 551 files [00:10, 49.55 files/s]\u001b[A\n",
            "Copying files: 558 files [00:10, 53.00 files/s]\u001b[A\n",
            "Copying files: 564 files [00:10, 51.75 files/s]\u001b[A\n",
            "Copying files: 571 files [00:11, 54.65 files/s]\u001b[A\n",
            "Copying files: 577 files [00:11, 54.65 files/s]\u001b[A\n",
            "Copying files: 584 files [00:11, 53.11 files/s]\u001b[A\n",
            "Copying files: 590 files [00:11, 52.28 files/s]\u001b[A\n",
            "Copying files: 597 files [00:11, 55.60 files/s]\u001b[A\n",
            "Copying files: 603 files [00:11, 46.03 files/s]\u001b[A\n",
            "Copying files: 608 files [00:12, 12.83 files/s]\u001b[A\n",
            "Copying files: 612 files [00:13, 14.85 files/s]\u001b[A\n",
            "Copying files: 619 files [00:13, 20.47 files/s]\u001b[A\n",
            "Copying files: 624 files [00:13, 23.91 files/s]\u001b[A\n",
            "Copying files: 629 files [00:13, 27.37 files/s]\u001b[A\n",
            "Copying files: 634 files [00:13, 29.87 files/s]\u001b[A\n",
            "Copying files: 640 files [00:13, 35.01 files/s]\u001b[A\n",
            "Copying files: 645 files [00:13, 37.42 files/s]\u001b[A\n",
            "Copying files: 652 files [00:13, 43.64 files/s]\u001b[A\n",
            "Copying files: 658 files [00:14, 45.77 files/s]\u001b[A\n",
            "Copying files: 664 files [00:14, 46.59 files/s]\u001b[A\n",
            "Copying files: 670 files [00:14, 47.37 files/s]\u001b[A\n",
            "Copying files: 677 files [00:14, 52.17 files/s]\u001b[A\n",
            "Copying files: 683 files [00:14, 48.96 files/s]\u001b[A\n",
            "Copying files: 689 files [00:14, 48.90 files/s]\u001b[A\n",
            "Copying files: 696 files [00:14, 52.73 files/s]\u001b[A\n",
            "Copying files: 702 files [00:14, 50.82 files/s]\u001b[A\n",
            "Copying files: 708 files [00:14, 52.68 files/s]\u001b[A\n",
            "Copying files: 714 files [00:15, 50.47 files/s]\u001b[A\n",
            "Copying files: 721 files [00:15, 53.55 files/s]\u001b[A\n",
            "Copying files: 727 files [00:15, 52.39 files/s]\u001b[A\n",
            "Copying files: 734 files [00:15, 55.31 files/s]\u001b[A\n",
            "Copying files: 740 files [00:15, 52.09 files/s]\u001b[A\n",
            "Copying files: 747 files [00:15, 54.92 files/s]\u001b[A\n",
            "Copying files: 753 files [00:15, 49.36 files/s]\u001b[A\n",
            "Copying files: 759 files [00:15, 49.50 files/s]\u001b[A\n",
            "Copying files: 766 files [00:16, 52.91 files/s]\u001b[A\n",
            "Copying files: 772 files [00:16, 50.47 files/s]\u001b[A\n",
            "Copying files: 779 files [00:16, 53.52 files/s]\u001b[A\n",
            "Copying files: 785 files [00:16, 51.81 files/s]\u001b[A\n",
            "Copying files: 791 files [00:16, 49.86 files/s]\u001b[A\n",
            "Copying files: 797 files [00:16, 48.71 files/s]\u001b[A\n",
            "Copying files: 804 files [00:16, 52.51 files/s]\u001b[A\n",
            "Copying files: 810 files [00:16, 50.62 files/s]\u001b[A\n",
            "Copying files: 816 files [00:17, 50.61 files/s]\u001b[A\n",
            "Copying files: 822 files [00:17, 52.04 files/s]\u001b[A\n",
            "Copying files: 828 files [00:17, 51.03 files/s]\u001b[A\n",
            "Copying files: 834 files [00:17, 53.08 files/s]\u001b[A\n",
            "Copying files: 840 files [00:17, 50.18 files/s]\u001b[A\n",
            "Copying files: 846 files [00:17, 51.65 files/s]\u001b[A\n",
            "Copying files: 852 files [00:17, 51.11 files/s]\u001b[A\n",
            "Copying files: 858 files [00:17, 53.06 files/s]\u001b[A\n",
            "Copying files: 864 files [00:17, 51.73 files/s]\u001b[A\n",
            "Copying files: 870 files [00:18, 53.71 files/s]\u001b[A\n",
            "Copying files: 876 files [00:18, 50.81 files/s]\u001b[A\n",
            "Copying files: 882 files [00:18, 49.65 files/s]\u001b[A\n",
            "Copying files: 888 files [00:18, 48.50 files/s]\u001b[A\n",
            "Copying files: 894 files [00:18, 50.53 files/s]\u001b[A\n",
            "Copying files: 900 files [00:18, 49.71 files/s]\u001b[A\n",
            "Copying files: 906 files [00:18, 39.37 files/s]\u001b[A\n",
            "Copying files: 911 files [00:20, 13.02 files/s]\u001b[A\n",
            "Copying files: 918 files [00:20, 17.88 files/s]\u001b[A\n",
            "Copying files: 923 files [00:20, 21.26 files/s]\u001b[A\n",
            "Copying files: 930 files [00:20, 27.42 files/s]\u001b[A\n",
            "Copying files: 935 files [00:20, 30.56 files/s]\u001b[A\n",
            "Copying files: 941 files [00:20, 35.47 files/s]\u001b[A\n",
            "Copying files: 946 files [00:20, 37.20 files/s]\u001b[A\n",
            "Copying files: 953 files [00:20, 43.18 files/s]\u001b[A\n",
            "Copying files: 959 files [00:20, 45.04 files/s]\u001b[A\n",
            "Copying files: 966 files [00:21, 50.06 files/s]\u001b[A\n",
            "Copying files: 972 files [00:21, 49.95 files/s]\u001b[A\n",
            "Copying files: 979 files [00:21, 50.91 files/s]\u001b[A\n",
            "Copying files: 985 files [00:21, 52.69 files/s]\u001b[A\n",
            "Copying files: 991 files [00:21, 51.18 files/s]\u001b[A\n",
            "Copying files: 997 files [00:21, 53.38 files/s]\u001b[A\n",
            "Copying files: 1003 files [00:21, 51.96 files/s]\u001b[A\n",
            "Copying files: 1009 files [00:21, 53.47 files/s]\u001b[A\n",
            "Copying files: 1015 files [00:21, 52.23 files/s]\u001b[A\n",
            "Copying files: 1022 files [00:22, 54.92 files/s]\u001b[A\n",
            "Copying files: 1028 files [00:22, 52.02 files/s]\u001b[A\n",
            "Copying files: 1035 files [00:22, 56.39 files/s]\u001b[A\n",
            "Copying files: 1041 files [00:22, 52.91 files/s]\u001b[A\n",
            "Copying files: 1047 files [00:22, 54.41 files/s]\u001b[A\n",
            "Copying files: 1053 files [00:22, 51.38 files/s]\u001b[A\n",
            "Copying files: 1059 files [00:22, 53.31 files/s]\u001b[A\n",
            "Copying files: 1065 files [00:22, 51.34 files/s]\u001b[A\n",
            "Copying files: 1072 files [00:23, 54.42 files/s]\u001b[A\n",
            "Copying files: 1078 files [00:23, 52.22 files/s]\u001b[A\n",
            "Copying files: 1084 files [00:23, 54.20 files/s]\u001b[A\n",
            "Copying files: 1090 files [00:23, 49.80 files/s]\u001b[A\n",
            "Copying files: 1096 files [00:23, 52.17 files/s]\u001b[A\n",
            "Copying files: 1102 files [00:23, 51.00 files/s]\u001b[A\n",
            "Copying files: 1108 files [00:23, 50.44 files/s]\u001b[A\n",
            "Copying files: 1114 files [00:23, 50.33 files/s]\u001b[A\n",
            "Copying files: 1120 files [00:24, 47.86 files/s]\u001b[A\n",
            "Copying files: 1127 files [00:24, 52.53 files/s]\u001b[A\n",
            "Copying files: 1133 files [00:24, 52.09 files/s]\u001b[A\n",
            "Copying files: 1140 files [00:24, 55.53 files/s]\u001b[A\n",
            "Copying files: 1146 files [00:24, 51.53 files/s]\u001b[A\n",
            "Copying files: 1153 files [00:24, 54.48 files/s]\u001b[A\n",
            "Copying files: 1159 files [00:24, 50.71 files/s]\u001b[A\n",
            "Copying files: 1165 files [00:24, 52.53 files/s]\u001b[A\n",
            "Copying files: 1171 files [00:24, 49.30 files/s]\u001b[A\n",
            "Copying files: 1177 files [00:25, 51.62 files/s]\u001b[A\n",
            "Copying files: 1183 files [00:25, 51.93 files/s]\u001b[A\n",
            "Copying files: 1189 files [00:25, 53.16 files/s]\u001b[A\n",
            "Copying files: 1195 files [00:25, 51.74 files/s]\u001b[A\n",
            "Copying files: 1201 files [00:25, 45.23 files/s]\u001b[A\n",
            "Copying files: 1206 files [00:26, 12.06 files/s]\u001b[A\n",
            "Copying files: 1211 files [00:26, 15.12 files/s]\u001b[A\n",
            "Copying files: 1215 files [00:27, 17.47 files/s]\u001b[A\n",
            "Copying files: 1221 files [00:27, 22.54 files/s]\u001b[A\n",
            "Copying files: 1226 files [00:27, 24.91 files/s]\u001b[A\n",
            "Copying files: 1232 files [00:27, 30.13 files/s]\u001b[A\n",
            "Copying files: 1237 files [00:27, 30.39 files/s]\u001b[A\n",
            "Copying files: 1244 files [00:27, 37.45 files/s]\u001b[A\n",
            "Copying files: 1249 files [00:27, 38.90 files/s]\u001b[A\n",
            "Copying files: 1255 files [00:28, 33.81 files/s]\u001b[A\n",
            "Copying files: 1261 files [00:28, 38.85 files/s]\u001b[A\n",
            "Copying files: 1267 files [00:28, 41.47 files/s]\u001b[A\n",
            "Copying files: 1274 files [00:28, 46.73 files/s]\u001b[A\n",
            "Copying files: 1280 files [00:28, 45.88 files/s]\u001b[A\n",
            "Copying files: 1287 files [00:28, 50.83 files/s]\u001b[A\n",
            "Copying files: 1293 files [00:28, 50.55 files/s]\u001b[A\n",
            "Copying files: 1299 files [00:28, 52.82 files/s]\u001b[A\n",
            "Copying files: 1305 files [00:29, 51.85 files/s]\u001b[A\n",
            "Copying files: 1311 files [00:29, 53.84 files/s]\u001b[A\n",
            "Copying files: 1317 files [00:29, 51.58 files/s]\u001b[A\n",
            "Copying files: 1323 files [00:29, 53.45 files/s]\u001b[A\n",
            "Copying files: 1329 files [00:29, 52.19 files/s]\u001b[A\n",
            "Copying files: 1335 files [00:29, 53.94 files/s]\u001b[A\n",
            "Copying files: 1341 files [00:29, 51.51 files/s]\u001b[A\n",
            "Copying files: 1347 files [00:29, 53.67 files/s]\u001b[A\n",
            "Copying files: 1353 files [00:29, 49.41 files/s]\u001b[A\n",
            "Copying files: 1359 files [00:30, 50.57 files/s]\u001b[A\n",
            "Copying files: 1365 files [00:30, 49.29 files/s]\u001b[A\n",
            "Copying files: 1371 files [00:30, 51.07 files/s]\u001b[A\n",
            "Copying files: 1377 files [00:30, 46.97 files/s]\u001b[A\n",
            "Copying files: 1383 files [00:30, 48.65 files/s]\u001b[A\n",
            "Copying files: 1388 files [00:30, 46.50 files/s]\u001b[A\n",
            "Copying files: 1395 files [00:30, 51.02 files/s]\u001b[A\n",
            "Copying files: 1401 files [00:30, 50.27 files/s]\u001b[A\n",
            "Copying files: 1408 files [00:31, 53.73 files/s]\u001b[A\n",
            "Copying files: 1414 files [00:31, 52.45 files/s]\u001b[A\n",
            "Copying files: 1420 files [00:31, 49.62 files/s]\u001b[A\n",
            "Copying files: 1426 files [00:31, 51.89 files/s]\u001b[A\n",
            "Copying files: 1432 files [00:31, 49.94 files/s]\u001b[A\n",
            "Copying files: 1438 files [00:31, 51.38 files/s]\u001b[A\n",
            "Copying files: 1444 files [00:31, 49.64 files/s]\u001b[A\n",
            "Copying files: 1450 files [00:31, 50.84 files/s]\u001b[A\n",
            "Copying files: 1456 files [00:31, 50.42 files/s]\u001b[A\n",
            "Copying files: 1463 files [00:32, 53.91 files/s]\u001b[A\n",
            "Copying files: 1469 files [00:32, 52.28 files/s]\u001b[A\n",
            "Copying files: 1475 files [00:32, 53.92 files/s]\u001b[A\n",
            "Copying files: 1481 files [00:32, 51.81 files/s]\u001b[A\n",
            "Copying files: 1487 files [00:32, 48.89 files/s]\u001b[A\n",
            "Copying files: 1492 files [00:32, 47.86 files/s]\u001b[A\n",
            "Copying files: 1498 files [00:32, 50.60 files/s]\u001b[A\n",
            "Copying files: 1504 files [00:33, 39.74 files/s]\u001b[A\n",
            "Copying files: 1509 files [00:34, 13.33 files/s]\u001b[A\n",
            "Copying files: 1514 files [00:34, 16.52 files/s]\u001b[A\n",
            "Copying files: 1520 files [00:34, 21.46 files/s]\u001b[A\n",
            "Copying files: 1525 files [00:34, 25.14 files/s]\u001b[A\n",
            "Copying files: 1531 files [00:34, 30.69 files/s]\u001b[A\n",
            "Copying files: 1536 files [00:34, 33.84 files/s]\u001b[A\n",
            "Copying files: 1542 files [00:34, 38.78 files/s]\u001b[A\n",
            "Copying files: 1547 files [00:34, 40.96 files/s]\u001b[A\n",
            "Copying files: 1553 files [00:34, 44.79 files/s]\u001b[A\n",
            "Copying files: 1559 files [00:35, 46.19 files/s]\u001b[A\n",
            "Copying files: 1565 files [00:35, 46.13 files/s]\u001b[A\n",
            "Copying files: 1571 files [00:35, 46.48 files/s]\u001b[A\n",
            "Copying files: 1576 files [00:35, 47.21 files/s]\u001b[A\n",
            "Copying files: 1583 files [00:35, 48.81 files/s]\u001b[A\n",
            "Copying files: 1590 files [00:35, 53.23 files/s]\u001b[A\n",
            "Copying files: 1596 files [00:35, 52.31 files/s]\u001b[A\n",
            "Copying files: 1602 files [00:35, 53.32 files/s]\u001b[A\n",
            "Copying files: 1608 files [00:36, 52.62 files/s]\u001b[A\n",
            "Copying files: 1614 files [00:36, 49.77 files/s]\u001b[A\n",
            "Copying files: 1620 files [00:36, 49.91 files/s]\u001b[A\n",
            "Copying files: 1627 files [00:36, 53.96 files/s]\u001b[A\n",
            "Copying files: 1633 files [00:36, 50.90 files/s]\u001b[A\n",
            "Copying files: 1639 files [00:36, 50.68 files/s]\u001b[A\n",
            "Copying files: 1645 files [00:36, 49.95 files/s]\u001b[A\n",
            "Copying files: 1652 files [00:36, 54.14 files/s]\u001b[A\n",
            "Copying files: 1658 files [00:36, 51.98 files/s]\u001b[A\n",
            "Copying files: 1665 files [00:37, 52.47 files/s]\u001b[A\n",
            "Copying files: 1672 files [00:37, 54.98 files/s]\u001b[A\n",
            "Copying files: 1678 files [00:37, 48.29 files/s]\u001b[A\n",
            "Copying files: 1683 files [00:37, 48.42 files/s]\u001b[A\n",
            "Copying files: 1688 files [00:37, 46.52 files/s]\u001b[A\n",
            "Copying files: 1694 files [00:37, 49.96 files/s]\u001b[A\n",
            "Copying files: 1700 files [00:37, 47.83 files/s]\u001b[A\n",
            "Copying files: 1706 files [00:37, 50.75 files/s]\u001b[A\n",
            "Copying files: 1712 files [00:38, 49.39 files/s]\u001b[A\n",
            "Copying files: 1718 files [00:38, 51.34 files/s]\u001b[A\n",
            "Copying files: 1724 files [00:38, 51.38 files/s]\u001b[A\n",
            "Copying files: 1731 files [00:38, 55.49 files/s]\u001b[A\n",
            "Copying files: 1737 files [00:38, 50.76 files/s]\u001b[A\n",
            "Copying files: 1743 files [00:38, 49.72 files/s]\u001b[A\n",
            "Copying files: 1749 files [00:38, 51.23 files/s]\u001b[A\n",
            "Copying files: 1755 files [00:38, 51.02 files/s]\u001b[A\n",
            "Copying files: 1761 files [00:39, 51.59 files/s]\u001b[A\n",
            "Copying files: 1767 files [00:39, 52.60 files/s]\u001b[A\n",
            "Copying files: 1773 files [00:39, 52.22 files/s]\u001b[A\n",
            "Copying files: 1779 files [00:39, 53.47 files/s]\u001b[A\n",
            "Copying files: 1786 files [00:39, 57.98 files/s]\u001b[A\n",
            "Copying files: 1792 files [00:39, 57.38 files/s]\u001b[A\n",
            "Copying files: 1799 files [00:39, 60.17 files/s]\u001b[A\n",
            "Copying files: 1806 files [00:40, 15.35 files/s]\u001b[A\n",
            "Copying files: 1812 files [00:40, 18.79 files/s]\u001b[A\n",
            "Copying files: 1818 files [00:41, 23.05 files/s]\u001b[A\n",
            "Copying files: 1824 files [00:41, 27.34 files/s]\u001b[A\n",
            "Copying files: 1830 files [00:41, 32.45 files/s]\u001b[A\n",
            "Copying files: 1836 files [00:41, 36.73 files/s]\u001b[A\n",
            "Copying files: 1842 files [00:41, 41.33 files/s]\u001b[A\n",
            "Copying files: 1848 files [00:41, 42.73 files/s]\u001b[A\n",
            "Copying files: 1854 files [00:41, 45.16 files/s]\u001b[A\n",
            "Copying files: 1860 files [00:41, 46.22 files/s]\u001b[A\n",
            "Copying files: 1866 files [00:42, 46.14 files/s]\u001b[A\n",
            "Copying files: 1871 files [00:42, 45.15 files/s]\u001b[A\n",
            "Copying files: 1878 files [00:42, 50.02 files/s]\u001b[A\n",
            "Copying files: 1884 files [00:42, 48.90 files/s]\u001b[A\n",
            "Copying files: 1891 files [00:42, 52.81 files/s]\u001b[A\n",
            "Copying files: 1897 files [00:42, 51.84 files/s]\u001b[A\n",
            "Copying files: 1904 files [00:42, 54.98 files/s]\u001b[A\n",
            "Copying files: 1910 files [00:42, 51.75 files/s]\u001b[A\n",
            "Copying files: 1916 files [00:43, 50.03 files/s]\u001b[A\n",
            "Copying files: 1922 files [00:43, 49.92 files/s]\u001b[A\n",
            "Copying files: 1928 files [00:43, 52.23 files/s]\u001b[A\n",
            "Copying files: 1934 files [00:43, 51.64 files/s]\u001b[A\n",
            "Copying files: 1940 files [00:43, 53.27 files/s]\u001b[A\n",
            "Copying files: 1946 files [00:43, 51.72 files/s]\u001b[A\n",
            "Copying files: 1952 files [00:43, 53.02 files/s]\u001b[A\n",
            "Copying files: 1958 files [00:43, 48.65 files/s]\u001b[A\n",
            "Copying files: 1964 files [00:43, 51.00 files/s]\u001b[A\n",
            "Copying files: 1970 files [00:44, 50.86 files/s]\u001b[A\n",
            "Copying files: 1977 files [00:44, 54.00 files/s]\u001b[A\n",
            "Copying files: 1983 files [00:44, 53.36 files/s]\u001b[A\n",
            "Copying files: 1990 files [00:44, 54.14 files/s]\u001b[A\n",
            "Copying files: 1996 files [00:44, 55.51 files/s]\u001b[A\n",
            "Copying files: 2002 files [00:44, 54.78 files/s]\u001b[A\n",
            "Copying files: 2008 files [00:44, 56.21 files/s]\u001b[A\n",
            "Copying files: 2014 files [00:44, 54.23 files/s]\u001b[A\n",
            "Copying files: 2020 files [00:44, 54.51 files/s]\u001b[A\n",
            "Copying files: 2026 files [00:45, 53.09 files/s]\u001b[A\n",
            "Copying files: 2032 files [00:45, 54.89 files/s]\u001b[A\n",
            "Copying files: 2038 files [00:45, 52.71 files/s]\u001b[A\n",
            "Copying files: 2044 files [00:45, 54.42 files/s]\u001b[A\n",
            "Copying files: 2050 files [00:45, 51.45 files/s]\u001b[A\n",
            "Copying files: 2057 files [00:45, 54.73 files/s]\u001b[A\n",
            "Copying files: 2063 files [00:45, 53.54 files/s]\u001b[A\n",
            "Copying files: 2070 files [00:45, 55.93 files/s]\u001b[A\n",
            "Copying files: 2076 files [00:45, 54.40 files/s]\u001b[A\n",
            "Copying files: 2082 files [00:46, 55.45 files/s]\u001b[A\n",
            "Copying files: 2088 files [00:46, 53.64 files/s]\u001b[A\n",
            "Copying files: 2094 files [00:46, 52.03 files/s]\u001b[A\n",
            "Copying files: 2100 files [00:46, 52.60 files/s]\u001b[A\n",
            "Copying files: 2106 files [00:47, 13.35 files/s]\u001b[A\n",
            "Copying files: 2113 files [00:47, 18.09 files/s]\u001b[A\n",
            "Copying files: 2118 files [00:47, 21.50 files/s]\u001b[A\n",
            "Copying files: 2124 files [00:48, 26.63 files/s]\u001b[A\n",
            "Copying files: 2130 files [00:48, 31.29 files/s]\u001b[A\n",
            "Copying files: 2137 files [00:48, 37.83 files/s]\u001b[A\n",
            "Copying files: 2143 files [00:48, 41.27 files/s]\u001b[A\n",
            "Copying files: 2149 files [00:48, 44.02 files/s]\u001b[A\n",
            "Copying files: 2155 files [00:48, 45.77 files/s]\u001b[A\n",
            "Copying files: 2162 files [00:48, 49.99 files/s]\u001b[A\n",
            "Copying files: 2168 files [00:48, 50.72 files/s]\u001b[A\n",
            "Copying files: 2174 files [00:48, 47.05 files/s]\u001b[A\n",
            "Copying files: 2180 files [00:49, 41.37 files/s]\u001b[A\n",
            "Copying files: 2185 files [00:49, 40.41 files/s]\u001b[A\n",
            "Copying files: 2192 files [00:49, 46.35 files/s]\u001b[A\n",
            "Copying files: 2197 files [00:49, 41.43 files/s]\u001b[A\n",
            "Copying files: 2203 files [00:49, 45.56 files/s]\u001b[A\n",
            "Copying files: 2208 files [00:49, 46.19 files/s]\u001b[A\n",
            "Copying files: 2215 files [00:49, 50.83 files/s]\u001b[A\n",
            "Copying files: 2221 files [00:49, 50.79 files/s]\u001b[A\n",
            "Copying files: 2228 files [00:50, 54.25 files/s]\u001b[A\n",
            "Copying files: 2234 files [00:50, 54.38 files/s]\u001b[A\n",
            "Copying files: 2241 files [00:50, 57.42 files/s]\u001b[A\n",
            "Copying files: 2247 files [00:50, 50.24 files/s]\u001b[A\n",
            "Copying files: 2253 files [00:50, 48.97 files/s]\u001b[A\n",
            "Copying files: 2259 files [00:50, 51.27 files/s]\u001b[A\n",
            "Copying files: 2265 files [00:50, 49.63 files/s]\u001b[A\n",
            "Copying files: 2271 files [00:50, 51.48 files/s]\u001b[A\n",
            "Copying files: 2277 files [00:51, 43.73 files/s]\u001b[A\n",
            "Copying files: 2283 files [00:51, 47.11 files/s]\u001b[A\n",
            "Copying files: 2288 files [00:51, 47.46 files/s]\u001b[A\n",
            "Copying files: 2295 files [00:51, 52.49 files/s]\u001b[A\n",
            "Copying files: 2301 files [00:51, 46.92 files/s]\u001b[A\n",
            "Copying files: 2307 files [00:51, 48.89 files/s]\u001b[A\n",
            "Copying files: 2313 files [00:51, 44.48 files/s]\u001b[A\n",
            "Copying files: 2318 files [00:51, 44.71 files/s]\u001b[A\n",
            "Copying files: 2323 files [00:52, 44.17 files/s]\u001b[A\n",
            "Copying files: 2328 files [00:52, 45.27 files/s]\u001b[A\n",
            "Copying files: 2334 files [00:52, 48.11 files/s]\u001b[A\n",
            "Copying files: 2340 files [00:52, 48.68 files/s]\u001b[A\n",
            "Copying files: 2345 files [00:52, 47.42 files/s]\u001b[A\n",
            "Copying files: 2352 files [00:52, 52.32 files/s]\u001b[A\n",
            "Copying files: 2358 files [00:52, 42.56 files/s]\u001b[A\n",
            "Copying files: 2363 files [00:52, 41.89 files/s]\u001b[A\n",
            "Copying files: 2368 files [00:53, 40.20 files/s]\u001b[A\n",
            "Copying files: 2374 files [00:53, 43.80 files/s]\u001b[A\n",
            "Copying files: 2379 files [00:53, 42.48 files/s]\u001b[A\n",
            "Copying files: 2385 files [00:53, 46.04 files/s]\u001b[A\n",
            "Copying files: 2390 files [00:53, 45.33 files/s]\u001b[A\n",
            "Copying files: 2396 files [00:53, 48.68 files/s]\u001b[A\n",
            "Copying files: 2401 files [00:53, 39.93 files/s]\u001b[A\n",
            "Copying files: 2406 files [00:54, 12.12 files/s]\u001b[A\n",
            "Copying files: 2411 files [00:55, 14.99 files/s]\u001b[A\n",
            "Copying files: 2416 files [00:55, 18.75 files/s]\u001b[A\n",
            "Copying files: 2421 files [00:55, 22.69 files/s]\u001b[A\n",
            "Copying files: 2426 files [00:55, 26.47 files/s]\u001b[A\n",
            "Copying files: 2432 files [00:55, 31.89 files/s]\u001b[A\n",
            "Copying files: 2437 files [00:55, 34.76 files/s]\u001b[A\n",
            "Copying files: 2442 files [00:55, 37.67 files/s]\u001b[A\n",
            "Copying files: 2447 files [00:55, 39.77 files/s]\u001b[A\n",
            "Copying files: 2452 files [00:55, 42.12 files/s]\u001b[A\n",
            "Copying files: 2458 files [00:56, 44.51 files/s]\u001b[A\n",
            "Copying files: 2465 files [00:56, 49.56 files/s]\u001b[A\n",
            "Copying files: 2471 files [00:56, 49.28 files/s]\u001b[A\n",
            "Copying files: 2477 files [00:56, 50.47 files/s]\u001b[A\n",
            "Copying files: 2483 files [00:56, 48.54 files/s]\u001b[A\n",
            "Copying files: 2490 files [00:56, 52.37 files/s]\u001b[A\n",
            "Copying files: 2496 files [00:56, 51.55 files/s]\u001b[A\n",
            "Copying files: 2502 files [00:56, 51.77 files/s]\u001b[A\n",
            "Copying files: 2508 files [00:57, 49.60 files/s]\u001b[A\n",
            "Copying files: 2515 files [00:57, 53.82 files/s]\u001b[A\n",
            "Copying files: 2521 files [00:57, 51.20 files/s]\u001b[A\n",
            "Copying files: 2527 files [00:57, 53.10 files/s]\u001b[A\n",
            "Copying files: 2533 files [00:57, 48.81 files/s]\u001b[A\n",
            "Copying files: 2539 files [00:57, 51.23 files/s]\u001b[A\n",
            "Copying files: 2545 files [00:57, 50.49 files/s]\u001b[A\n",
            "Copying files: 2552 files [00:57, 53.68 files/s]\u001b[A\n",
            "Copying files: 2558 files [00:58, 52.60 files/s]\u001b[A\n",
            "Copying files: 2564 files [00:58, 50.77 files/s]\u001b[A\n",
            "Copying files: 2570 files [00:58, 53.02 files/s]\u001b[A\n",
            "Copying files: 2576 files [00:58, 50.85 files/s]\u001b[A\n",
            "Copying files: 2582 files [00:58, 50.37 files/s]\u001b[A\n",
            "Copying files: 2588 files [00:58, 48.39 files/s]\u001b[A\n",
            "Copying files: 2594 files [00:58, 49.65 files/s]\u001b[A\n",
            "Copying files: 2600 files [00:58, 48.89 files/s]\u001b[A\n",
            "Copying files: 2606 files [00:58, 50.71 files/s]\u001b[A\n",
            "Copying files: 2612 files [00:59, 48.42 files/s]\u001b[A\n",
            "Copying files: 2619 files [00:59, 52.37 files/s]\u001b[A\n",
            "Copying files: 2625 files [00:59, 47.93 files/s]\u001b[A\n",
            "Copying files: 2631 files [00:59, 50.00 files/s]\u001b[A\n",
            "Copying files: 2637 files [00:59, 45.96 files/s]\u001b[A\n",
            "Copying files: 2643 files [00:59, 49.06 files/s]\u001b[A\n",
            "Copying files: 2649 files [00:59, 48.13 files/s]\u001b[A\n",
            "Copying files: 2654 files [00:59, 47.77 files/s]\u001b[A\n",
            "Copying files: 2659 files [01:00, 46.03 files/s]\u001b[A\n",
            "Copying files: 2665 files [01:00, 49.13 files/s]\u001b[A\n",
            "Copying files: 2670 files [01:00, 46.14 files/s]\u001b[A\n",
            "Copying files: 2676 files [01:00, 48.19 files/s]\u001b[A\n",
            "Copying files: 2681 files [01:00, 46.48 files/s]\u001b[A\n",
            "Copying files: 2687 files [01:00, 49.65 files/s]\u001b[A\n",
            "Copying files: 2693 files [01:00, 49.17 files/s]\u001b[A\n",
            "Copying files: 2700 files [01:00, 44.30 files/s]\n"
          ]
        }
      ],
      "source": [
        "input_folder = \"/content/drive/MyDrive/archive/pest/train\"\n",
        "output = \"/content/drive/MyDrive/processedData\"\n",
        "splitfolders.ratio(input_folder, output, seed=42, ratio=(.8, .2, 0))"
      ]
    },
    {
      "cell_type": "code",
      "execution_count": null,
      "metadata": {
        "colab": {
          "base_uri": "https://localhost:8080/"
        },
        "id": "W8VkjMWmxCyc",
        "outputId": "b9616019-ef0b-4cb1-d8eb-816c0d6a9c91"
      },
      "outputs": [
        {
          "name": "stdout",
          "output_type": "stream",
          "text": [
            "Help on function ratio in module splitfolders.split:\n",
            "\n",
            "ratio(input, output='output', seed=1337, ratio=(0.8, 0.1, 0.1), group_prefix=None, move=False)\n",
            "\n"
          ]
        }
      ],
      "source": [
        "help(splitfolders.ratio)"
      ]
    },
    {
      "cell_type": "code",
      "execution_count": null,
      "metadata": {
        "id": "-gP51zQCtisV"
      },
      "outputs": [],
      "source": [
        "img_height, img_width = (224, 224)\n",
        "batch_size = 300\n",
        "train_data_dir = r\"/content/drive/MyDrive/archive/pest/train\"\n",
        "valid_data_dir =  r\"/content/drive/MyDrive/processedData/val\"\n",
        "test_data_dir =  r\"/content/drive/MyDrive/archive/pest/test\""
      ]
    },
    {
      "cell_type": "code",
      "execution_count": null,
      "metadata": {
        "id": "jK3YGsOjzTL4"
      },
      "outputs": [],
      "source": [
        "train_datagen = ImageDataGenerator(preprocessing_function=preprocess_input, shear_range=0.2, zoom_range=0.2, horizontal_flip=True, validation_split=0.4)"
      ]
    },
    {
      "cell_type": "code",
      "execution_count": null,
      "metadata": {
        "colab": {
          "base_uri": "https://localhost:8080/"
        },
        "id": "i0OPbtQD0Xfp",
        "outputId": "745d36a9-97bc-449d-b60a-43eee38c772f"
      },
      "outputs": [
        {
          "output_type": "stream",
          "name": "stdout",
          "text": [
            "Found 1620 images belonging to 9 classes.\n"
          ]
        }
      ],
      "source": [
        "train_generator = train_datagen.flow_from_directory(\n",
        "    train_data_dir,\n",
        "    target_size=(img_height, img_width),\n",
        "    batch_size=batch_size,\n",
        "    class_mode='categorical',\n",
        "    subset='training'\n",
        ")"
      ]
    },
    {
      "cell_type": "code",
      "execution_count": null,
      "metadata": {
        "colab": {
          "base_uri": "https://localhost:8080/"
        },
        "id": "4dOAU98Y0zDK",
        "outputId": "98a385d7-9feb-4a6f-fe0e-fa5303b5d084"
      },
      "outputs": [
        {
          "output_type": "stream",
          "name": "stdout",
          "text": [
            "Found 216 images belonging to 9 classes.\n"
          ]
        }
      ],
      "source": [
        "valid_generator = train_datagen.flow_from_directory(\n",
        "    valid_data_dir,\n",
        "    target_size=(img_height, img_width),\n",
        "    batch_size=batch_size,\n",
        "    class_mode='categorical',\n",
        "    subset='validation'\n",
        ")"
      ]
    },
    {
      "cell_type": "code",
      "execution_count": null,
      "metadata": {
        "colab": {
          "base_uri": "https://localhost:8080/"
        },
        "id": "qQ0ED9n61JC2",
        "outputId": "4e944dc6-0a48-410d-b7b4-dd947a379f76"
      },
      "outputs": [
        {
          "output_type": "stream",
          "name": "stdout",
          "text": [
            "Found 180 images belonging to 9 classes.\n"
          ]
        }
      ],
      "source": [
        "test_generator = train_datagen.flow_from_directory(\n",
        "    test_data_dir,\n",
        "    target_size=(img_height, img_width),\n",
        "    batch_size=1,\n",
        "    class_mode='categorical',\n",
        "    subset='validation'\n",
        ")"
      ]
    },
    {
      "cell_type": "code",
      "execution_count": null,
      "metadata": {
        "colab": {
          "base_uri": "https://localhost:8080/"
        },
        "id": "tL9DEPBa3rFW",
        "outputId": "0990c0c4-f46d-4d5d-89d1-70b602d35e04"
      },
      "outputs": [
        {
          "output_type": "execute_result",
          "data": {
            "text/plain": [
              "(1, 224, 224, 3)"
            ]
          },
          "metadata": {},
          "execution_count": 8
        }
      ],
      "source": [
        "x,y = test_generator.next()\n",
        "x.shape"
      ]
    },
    {
      "cell_type": "code",
      "execution_count": null,
      "metadata": {
        "colab": {
          "base_uri": "https://localhost:8080/"
        },
        "id": "jlyZXieP9y5X",
        "outputId": "b539f2b9-077f-4aa5-977d-c86a31bdbf6f"
      },
      "outputs": [
        {
          "output_type": "stream",
          "name": "stdout",
          "text": [
            "Downloading data from https://storage.googleapis.com/tensorflow/keras-applications/resnet/resnet50_weights_tf_dim_ordering_tf_kernels_notop.h5\n",
            "94765736/94765736 [==============================] - 3s 0us/step\n",
            "Epoch 1/10\n",
            "6/6 [==============================] - 593s 114s/step - loss: 3.0726 - accuracy: 0.3914\n",
            "Epoch 2/10\n",
            "6/6 [==============================] - 30s 5s/step - loss: 0.7223 - accuracy: 0.7679\n",
            "Epoch 3/10\n",
            "6/6 [==============================] - 30s 5s/step - loss: 0.3065 - accuracy: 0.9142\n",
            "Epoch 4/10\n",
            "6/6 [==============================] - 30s 5s/step - loss: 0.1599 - accuracy: 0.9537\n",
            "Epoch 5/10\n",
            "6/6 [==============================] - 29s 5s/step - loss: 0.0857 - accuracy: 0.9821\n",
            "Epoch 6/10\n",
            "6/6 [==============================] - 30s 5s/step - loss: 0.0473 - accuracy: 0.9932\n",
            "Epoch 7/10\n",
            "6/6 [==============================] - 30s 5s/step - loss: 0.0279 - accuracy: 0.9981\n",
            "Epoch 8/10\n",
            "6/6 [==============================] - 31s 5s/step - loss: 0.0180 - accuracy: 0.9994\n",
            "Epoch 9/10\n",
            "6/6 [==============================] - 30s 5s/step - loss: 0.0117 - accuracy: 1.0000\n",
            "Epoch 10/10\n",
            "6/6 [==============================] - 30s 5s/step - loss: 0.0106 - accuracy: 1.0000\n"
          ]
        },
        {
          "output_type": "execute_result",
          "data": {
            "text/plain": [
              "<keras.src.callbacks.History at 0x7dd4205adf60>"
            ]
          },
          "metadata": {},
          "execution_count": 11
        }
      ],
      "source": [
        "base_model = ResNet50(include_top=False, weights='imagenet')\n",
        "x = base_model.output\n",
        "x = GlobalAveragePooling2D()(x)\n",
        "x = Dense(1024, activation='relu')(x)\n",
        "predictions = Dense(train_generator.num_classes, activation='softmax')(x)\n",
        "model = Model(inputs=base_model.input, outputs=predictions)\n",
        "\n",
        "for layer in base_model.layers:\n",
        "  layer.trainable = False\n",
        "\n",
        "model.compile(optimizer='adam', loss='categorical_crossentropy', metrics =['accuracy'])\n",
        "\n",
        "model.fit(train_generator, epochs =10)"
      ]
    },
    {
      "cell_type": "code",
      "execution_count": null,
      "metadata": {
        "colab": {
          "base_uri": "https://localhost:8080/"
        },
        "id": "yJjTftVC-4wu",
        "outputId": "9d82236d-ae25-4f74-8a63-2a0d88b0ae5a"
      },
      "outputs": [
        {
          "output_type": "stream",
          "name": "stderr",
          "text": [
            "/usr/local/lib/python3.10/dist-packages/keras/src/engine/training.py:3103: UserWarning: You are saving your model as an HDF5 file via `model.save()`. This file format is considered legacy. We recommend using instead the native Keras format, e.g. `model.save('my_model.keras')`.\n",
            "  saving_api.save_model(\n"
          ]
        }
      ],
      "source": [
        "model.save('/content/drive/MyDrive/REsNet50_Pest.h5')"
      ]
    },
    {
      "cell_type": "code",
      "execution_count": null,
      "metadata": {
        "colab": {
          "base_uri": "https://localhost:8080/"
        },
        "id": "-M-UI413ExCa",
        "outputId": "4b104c91-8dd3-4784-e8b0-cdd8c4a9d2f9"
      },
      "outputs": [
        {
          "output_type": "stream",
          "name": "stdout",
          "text": [
            "180/180 - 5s - loss: 0.4327 - accuracy: 0.9111 - 5s/epoch - 28ms/step\n",
            "\n",
            "Test accuracy: 0.9111111164093018\n"
          ]
        }
      ],
      "source": [
        "test_loss, test_acc = model.evaluate(test_generator, verbose=2)\n",
        "print('\\nTest accuracy:', test_acc)"
      ]
    },
    {
      "cell_type": "code",
      "execution_count": null,
      "metadata": {
        "colab": {
          "base_uri": "https://localhost:8080/",
          "height": 1000
        },
        "id": "kdPT8aMKFDBv",
        "outputId": "9c8486f9-1421-47d7-8733-03a43c7da36a"
      },
      "outputs": [
        {
          "output_type": "stream",
          "name": "stdout",
          "text": [
            "1/1 [==============================] - 1s 1s/step\n",
            "1/1 [==============================] - 0s 23ms/step\n",
            "1/1 [==============================] - 0s 25ms/step\n",
            "1/1 [==============================] - 0s 24ms/step\n",
            "1/1 [==============================] - 0s 25ms/step\n",
            "1/1 [==============================] - 0s 22ms/step\n",
            "1/1 [==============================] - 0s 24ms/step\n",
            "1/1 [==============================] - 0s 31ms/step\n",
            "1/1 [==============================] - 0s 23ms/step\n",
            "1/1 [==============================] - 0s 22ms/step\n",
            "1/1 [==============================] - 0s 23ms/step\n",
            "1/1 [==============================] - 0s 22ms/step\n",
            "1/1 [==============================] - 0s 22ms/step\n",
            "1/1 [==============================] - 0s 22ms/step\n",
            "1/1 [==============================] - 0s 22ms/step\n",
            "1/1 [==============================] - 0s 22ms/step\n",
            "1/1 [==============================] - 0s 22ms/step\n",
            "1/1 [==============================] - 0s 27ms/step\n",
            "1/1 [==============================] - 0s 33ms/step\n",
            "1/1 [==============================] - 0s 23ms/step\n",
            "1/1 [==============================] - 0s 23ms/step\n",
            "1/1 [==============================] - 0s 24ms/step\n",
            "1/1 [==============================] - 0s 23ms/step\n",
            "1/1 [==============================] - 0s 23ms/step\n",
            "1/1 [==============================] - 0s 23ms/step\n",
            "1/1 [==============================] - 0s 22ms/step\n",
            "1/1 [==============================] - 0s 24ms/step\n",
            "1/1 [==============================] - 0s 24ms/step\n",
            "1/1 [==============================] - 0s 24ms/step\n",
            "1/1 [==============================] - 0s 23ms/step\n",
            "1/1 [==============================] - 0s 23ms/step\n",
            "1/1 [==============================] - 0s 22ms/step\n",
            "1/1 [==============================] - 0s 25ms/step\n",
            "1/1 [==============================] - 0s 22ms/step\n",
            "1/1 [==============================] - 0s 25ms/step\n",
            "1/1 [==============================] - 0s 25ms/step\n",
            "1/1 [==============================] - 0s 25ms/step\n",
            "1/1 [==============================] - 0s 23ms/step\n",
            "1/1 [==============================] - 0s 39ms/step\n",
            "1/1 [==============================] - 0s 36ms/step\n",
            "1/1 [==============================] - 0s 37ms/step\n",
            "1/1 [==============================] - 0s 36ms/step\n",
            "1/1 [==============================] - 0s 41ms/step\n",
            "1/1 [==============================] - 0s 37ms/step\n",
            "1/1 [==============================] - 0s 38ms/step\n",
            "1/1 [==============================] - 0s 37ms/step\n",
            "1/1 [==============================] - 0s 32ms/step\n",
            "1/1 [==============================] - 0s 39ms/step\n",
            "1/1 [==============================] - 0s 39ms/step\n",
            "1/1 [==============================] - 0s 37ms/step\n",
            "1/1 [==============================] - 0s 38ms/step\n",
            "1/1 [==============================] - 0s 38ms/step\n",
            "1/1 [==============================] - 0s 35ms/step\n",
            "1/1 [==============================] - 0s 36ms/step\n",
            "1/1 [==============================] - 0s 38ms/step\n",
            "1/1 [==============================] - 0s 51ms/step\n",
            "1/1 [==============================] - 0s 41ms/step\n",
            "1/1 [==============================] - 0s 40ms/step\n",
            "1/1 [==============================] - 0s 40ms/step\n",
            "1/1 [==============================] - 0s 38ms/step\n",
            "1/1 [==============================] - 0s 41ms/step\n",
            "1/1 [==============================] - 0s 36ms/step\n",
            "1/1 [==============================] - 0s 41ms/step\n",
            "1/1 [==============================] - 0s 22ms/step\n",
            "1/1 [==============================] - 0s 23ms/step\n",
            "1/1 [==============================] - 0s 23ms/step\n",
            "1/1 [==============================] - 0s 23ms/step\n",
            "1/1 [==============================] - 0s 22ms/step\n",
            "1/1 [==============================] - 0s 23ms/step\n",
            "1/1 [==============================] - 0s 26ms/step\n",
            "1/1 [==============================] - 0s 25ms/step\n",
            "1/1 [==============================] - 0s 23ms/step\n",
            "1/1 [==============================] - 0s 23ms/step\n",
            "1/1 [==============================] - 0s 22ms/step\n",
            "1/1 [==============================] - 0s 26ms/step\n",
            "1/1 [==============================] - 0s 24ms/step\n",
            "1/1 [==============================] - 0s 24ms/step\n",
            "1/1 [==============================] - 0s 23ms/step\n",
            "1/1 [==============================] - 0s 33ms/step\n",
            "1/1 [==============================] - 0s 24ms/step\n",
            "1/1 [==============================] - 0s 23ms/step\n",
            "1/1 [==============================] - 0s 23ms/step\n",
            "1/1 [==============================] - 0s 24ms/step\n",
            "1/1 [==============================] - 0s 22ms/step\n",
            "1/1 [==============================] - 0s 29ms/step\n",
            "1/1 [==============================] - 0s 23ms/step\n",
            "1/1 [==============================] - 0s 24ms/step\n",
            "1/1 [==============================] - 0s 24ms/step\n",
            "1/1 [==============================] - 0s 22ms/step\n",
            "1/1 [==============================] - 0s 22ms/step\n",
            "1/1 [==============================] - 0s 22ms/step\n",
            "1/1 [==============================] - 0s 22ms/step\n",
            "1/1 [==============================] - 0s 23ms/step\n",
            "1/1 [==============================] - 0s 23ms/step\n",
            "1/1 [==============================] - 0s 23ms/step\n",
            "1/1 [==============================] - 0s 23ms/step\n",
            "1/1 [==============================] - 0s 23ms/step\n",
            "1/1 [==============================] - 0s 22ms/step\n",
            "1/1 [==============================] - 0s 29ms/step\n",
            "1/1 [==============================] - 0s 24ms/step\n",
            "1/1 [==============================] - 0s 23ms/step\n",
            "1/1 [==============================] - 0s 22ms/step\n",
            "1/1 [==============================] - 0s 23ms/step\n",
            "1/1 [==============================] - 0s 23ms/step\n",
            "1/1 [==============================] - 0s 29ms/step\n",
            "1/1 [==============================] - 0s 24ms/step\n",
            "1/1 [==============================] - 0s 24ms/step\n",
            "1/1 [==============================] - 0s 24ms/step\n",
            "1/1 [==============================] - 0s 23ms/step\n",
            "1/1 [==============================] - 0s 22ms/step\n",
            "1/1 [==============================] - 0s 27ms/step\n",
            "1/1 [==============================] - 0s 22ms/step\n",
            "1/1 [==============================] - 0s 23ms/step\n",
            "1/1 [==============================] - 0s 23ms/step\n",
            "1/1 [==============================] - 0s 22ms/step\n",
            "1/1 [==============================] - 0s 26ms/step\n",
            "1/1 [==============================] - 0s 23ms/step\n",
            "1/1 [==============================] - 0s 27ms/step\n",
            "1/1 [==============================] - 0s 23ms/step\n",
            "1/1 [==============================] - 0s 25ms/step\n",
            "1/1 [==============================] - 0s 22ms/step\n",
            "1/1 [==============================] - 0s 25ms/step\n",
            "1/1 [==============================] - 0s 23ms/step\n",
            "1/1 [==============================] - 0s 24ms/step\n",
            "1/1 [==============================] - 0s 24ms/step\n",
            "1/1 [==============================] - 0s 23ms/step\n",
            "1/1 [==============================] - 0s 23ms/step\n",
            "1/1 [==============================] - 0s 25ms/step\n",
            "1/1 [==============================] - 0s 33ms/step\n",
            "1/1 [==============================] - 0s 23ms/step\n",
            "1/1 [==============================] - 0s 22ms/step\n",
            "1/1 [==============================] - 0s 24ms/step\n",
            "1/1 [==============================] - 0s 23ms/step\n",
            "1/1 [==============================] - 0s 23ms/step\n",
            "1/1 [==============================] - 0s 24ms/step\n",
            "1/1 [==============================] - 0s 24ms/step\n",
            "1/1 [==============================] - 0s 24ms/step\n",
            "1/1 [==============================] - 0s 22ms/step\n",
            "1/1 [==============================] - 0s 23ms/step\n",
            "1/1 [==============================] - 0s 32ms/step\n",
            "1/1 [==============================] - 0s 23ms/step\n",
            "1/1 [==============================] - 0s 23ms/step\n",
            "1/1 [==============================] - 0s 25ms/step\n",
            "1/1 [==============================] - 0s 23ms/step\n",
            "1/1 [==============================] - 0s 23ms/step\n",
            "1/1 [==============================] - 0s 26ms/step\n",
            "1/1 [==============================] - 0s 23ms/step\n",
            "1/1 [==============================] - 0s 23ms/step\n",
            "1/1 [==============================] - 0s 22ms/step\n",
            "1/1 [==============================] - 0s 25ms/step\n",
            "1/1 [==============================] - 0s 28ms/step\n",
            "1/1 [==============================] - 0s 25ms/step\n",
            "1/1 [==============================] - 0s 23ms/step\n",
            "1/1 [==============================] - 0s 23ms/step\n",
            "1/1 [==============================] - 0s 23ms/step\n",
            "1/1 [==============================] - 0s 24ms/step\n",
            "1/1 [==============================] - 0s 22ms/step\n",
            "1/1 [==============================] - 0s 24ms/step\n",
            "1/1 [==============================] - 0s 24ms/step\n",
            "1/1 [==============================] - 0s 21ms/step\n",
            "1/1 [==============================] - 0s 24ms/step\n",
            "1/1 [==============================] - 0s 22ms/step\n",
            "1/1 [==============================] - 0s 24ms/step\n",
            "1/1 [==============================] - 0s 22ms/step\n",
            "1/1 [==============================] - 0s 22ms/step\n",
            "1/1 [==============================] - 0s 23ms/step\n",
            "1/1 [==============================] - 0s 22ms/step\n",
            "1/1 [==============================] - 0s 23ms/step\n",
            "1/1 [==============================] - 0s 22ms/step\n",
            "1/1 [==============================] - 0s 27ms/step\n",
            "1/1 [==============================] - 0s 37ms/step\n",
            "1/1 [==============================] - 0s 34ms/step\n",
            "1/1 [==============================] - 0s 35ms/step\n",
            "1/1 [==============================] - 0s 38ms/step\n",
            "1/1 [==============================] - 0s 35ms/step\n",
            "1/1 [==============================] - 0s 35ms/step\n",
            "1/1 [==============================] - 0s 34ms/step\n",
            "1/1 [==============================] - 0s 35ms/step\n",
            "1/1 [==============================] - 0s 37ms/step\n",
            "1/1 [==============================] - 0s 36ms/step\n"
          ]
        },
        {
          "output_type": "display_data",
          "data": {
            "text/plain": [
              "<Figure size 640x480 with 2 Axes>"
            ],
            "image/png": "[encoded data removed]"
          },
          "metadata": {}
        },
        {
          "output_type": "stream",
          "name": "stdout",
          "text": [
            "test accuracy : 86.11111111111111\n"
          ]
        }
      ],
      "source": [
        "import pandas as pd\n",
        "import seaborn as sn\n",
        "import tensorflow as tf\n",
        "import matplotlib.pyplot as plt\n",
        "\n",
        "model = tf.keras.models.load_model(\"/content/drive/MyDrive/REsNet50_Pest.h5\")\n",
        "filenames = test_generator.filenames\n",
        "nb_samples = len(test_generator)\n",
        "y_prob=[]\n",
        "y_act=[]\n",
        "test_generator.reset()\n",
        "for _ in range(nb_samples):\n",
        "  X_test, Y_test = test_generator.next()\n",
        "  y_prob.append(model.predict(X_test))\n",
        "  y_act.append(Y_test)\n",
        "\n",
        "predicted_class = [list(train_generator.class_indices.keys())[i.argmax()] for i in y_prob]\n",
        "actual_class = [list(train_generator.class_indices.keys())[i.argmax()] for i in y_act]\n",
        "\n",
        "out_df = pd.DataFrame(np.vstack([predicted_class,actual_class]).T, columns=['predicted_class','actual_class'])\n",
        "confusion_matrix = pd.crosstab(out_df['actual_class'],out_df['predicted_class'],rownames=['Actual'],colnames=['Predicted'])\n",
        "\n",
        "sn.heatmap(confusion_matrix,cmap='Blues',annot=True,fmt='d')\n",
        "plt.show()\n",
        "print('test accuracy : {}'.format((np.diagonal(confusion_matrix).sum()/confusion_matrix.sum().sum()*100)))\n"
      ]
    },
    {
      "cell_type": "code",
      "execution_count": null,
      "metadata": {
        "id": "qyr2qzK4rAzt"
      },
      "outputs": [],
      "source": []
    },
    {
      "cell_type": "code",
      "execution_count": null,
      "metadata": {
        "colab": {
          "base_uri": "https://localhost:8080/",
          "height": 308,
          "referenced_widgets": [
            "f4f9b6fa5f734967a3b430b29343570b",
            "c2db0b1db5e649b7a2f92ba807df7876",
            "ac248d910fde4339ae4a53b00c36cf03"
          ]
        },
        "id": "8ZjLw1YqZqjs",
        "outputId": "b279f56f-7fb2-4a47-aa17-80a043f0a612"
      },
      "outputs": [
        {
          "output_type": "display_data",
          "data": {
            "text/plain": [
              "FileUpload(value={}, description='Upload')"
            ],
            "application/vnd.jupyter.widget-view+json": {
              "version_major": 2,
              "version_minor": 0,
              "model_id": "f4f9b6fa5f734967a3b430b29343570b"
            }
          },
          "metadata": {}
        },
        {
          "output_type": "display_data",
          "data": {
            "text/plain": [
              "<PIL.Image.Image image mode=RGB size=224x224>"
            ],
            "image/png": "[encoded data removed]"
          },
          "metadata": {}
        },
        {
          "output_type": "stream",
          "name": "stdout",
          "text": [
            "1/1 [==============================] - 1s 890ms/step\n",
            "Predicted crop pest: bollworm\n"
          ]
        }
      ],
      "source": [
        "import numpy as np\n",
        "from tensorflow.keras.preprocessing import image\n",
        "from tensorflow.keras.applications.resnet50 import preprocess_input, decode_predictions\n",
        "from IPython.display import display\n",
        "from PIL import Image\n",
        "import ipywidgets as widgets\n",
        "from IPython.display import display as ipydisplay\n",
        "from io import BytesIO\n",
        "\n",
        "# Load the saved model\n",
        "model = tf.keras.models.load_model(\"/content/drive/MyDrive/REsNet50_Pest.h5\")\n",
        "\n",
        "# Function to preprocess the image and make predictions\n",
        "def predict_crop_pest(img):\n",
        "    img_array = image.img_to_array(img)  # Convert image to array\n",
        "    img_array = np.expand_dims(img_array, axis=0)  # Expand dimensions to create batch size of 1\n",
        "    img_array = preprocess_input(img_array)  # Preprocess the image\n",
        "\n",
        "    # Make prediction\n",
        "    prediction = model.predict(img_array)\n",
        "    predicted_class_index = np.argmax(prediction)\n",
        "    return predicted_class_index\n",
        "\n",
        "# Function to display the predicted class name\n",
        "def display_prediction(class_index):\n",
        "    # Map the class index to class name\n",
        "    class_names = ['aphids', 'armyworm', 'beetle','bollworm','grasshopper','mites','mosquito','sawfly','stem_borer']  # Update with your actual class names\n",
        "    predicted_class_name = class_names[class_index]\n",
        "    return predicted_class_name\n",
        "\n",
        "# Create file upload widget\n",
        "uploader = widgets.FileUpload()\n",
        "display(uploader)\n",
        "\n",
        "def on_upload_change(change):\n",
        "    if uploader.value:\n",
        "        # Get uploaded image\n",
        "        img = Image.open(BytesIO(uploader.data[-1]))\n",
        "        img = img.resize((224, 224))  # Resize image to match ResNet50 input size\n",
        "        ipydisplay(img)\n",
        "\n",
        "        # Predict class index\n",
        "        predicted_class_index = predict_crop_pest(img)\n",
        "\n",
        "        # Display predicted class name\n",
        "        predicted_class_name = display_prediction(predicted_class_index)\n",
        "        print(\"Predicted crop pest:\", predicted_class_name)\n",
        "\n",
        "uploader.observe(on_upload_change, names='_counter')\n"
      ]
    },
    {
      "cell_type": "code",
      "execution_count": null,
      "metadata": {
        "id": "i_T9MBOorBsW"
      },
      "outputs": [],
      "source": [
        "import tensorflow as tf\n",
        "from keras.models import load_model\n",
        "\n",
        "model = load_model(\"/content/drive/MyDrive/REsNet50_Pest.h5\")\n",
        "\n",
        "converter = tf.lite.TFLiteConverter.from_keras_model(model)\n",
        "\n",
        "converter.optimizations = [tf.lite.Optimize.DEFAULT]\n",
        "\n",
        "lite_model = converter.convert()\n",
        "\n",
        "with open(\"lite_modEl.tflite\", \"wb\") as f:\n",
        "    f.write(lite_model)"
      ]
    },
    {
      "cell_type": "code",
      "source": [
        "\n"
      ],
      "metadata": {
        "id": "zE_w9of61GCv"
      },
      "execution_count": null,
      "outputs": []
    },
    {
      "cell_type": "code",
      "source": [],
      "metadata": {
        "id": "qGBHp7mI1uuw"
      },
      "execution_count": null,
      "outputs": []
    }
  ],
  "metadata": {
    "colab": {
      "provenance": [],
      "gpuType": "T4"
    },
    "kernelspec": {
      "display_name": "Python 3",
      "name": "python3"
    },
    "language_info": {
      "name": "python"
    },
    "widgets": {
      "application/vnd.jupyter.widget-state+json": {
        "f4f9b6fa5f734967a3b430b29343570b": {
          "model_module": "@jupyter-widgets/controls",
          "model_name": "FileUploadModel",
          "model_module_version": "1.5.0",
          "state": {
            "_counter": 1,
            "_dom_classes": [],
            "_model_module": "@jupyter-widgets/controls",
            "_model_module_version": "1.5.0",
            "_model_name": "FileUploadModel",
            "_view_count": null,
            "_view_module": "@jupyter-widgets/controls",
            "_view_module_version": "1.5.0",
            "_view_name": "FileUploadView",
            "accept": "",
            "button_style": "",
            "data": [
              null
            ],
            "description": "Upload",
            "description_tooltip": null,
            "disabled": false,
            "error": "",
            "icon": "upload",
            "layout": "IPY_MODEL_c2db0b1db5e649b7a2f92ba807df7876",
            "metadata": [
              {
                "name": "jpg_87.jpg",
                "type": "image/jpeg",
                "size": 30385,
                "lastModified": 1710410494042
              }
            ],
            "multiple": false,
            "style": "IPY_MODEL_ac248d910fde4339ae4a53b00c36cf03"
          }
        },
        "c2db0b1db5e649b7a2f92ba807df7876": {
          "model_module": "@jupyter-widgets/base",
          "model_name": "LayoutModel",
          "model_module_version": "1.2.0",
          "state": {
            "_model_module": "@jupyter-widgets/base",
            "_model_module_version": "1.2.0",
            "_model_name": "LayoutModel",
            "_view_count": null,
            "_view_module": "@jupyter-widgets/base",
            "_view_module_version": "1.2.0",
            "_view_name": "LayoutView",
            "align_content": null,
            "align_items": null,
            "align_self": null,
            "border": null,
            "bottom": null,
            "display": null,
            "flex": null,
            "flex_flow": null,
            "grid_area": null,
            "grid_auto_columns": null,
            "grid_auto_flow": null,
            "grid_auto_rows": null,
            "grid_column": null,
            "grid_gap": null,
            "grid_row": null,
            "grid_template_areas": null,
            "grid_template_columns": null,
            "grid_template_rows": null,
            "height": null,
            "justify_content": null,
            "justify_items": null,
            "left": null,
            "margin": null,
            "max_height": null,
            "max_width": null,
            "min_height": null,
            "min_width": null,
            "object_fit": null,
            "object_position": null,
            "order": null,
            "overflow": null,
            "overflow_x": null,
            "overflow_y": null,
            "padding": null,
            "right": null,
            "top": null,
            "visibility": null,
            "width": null
          }
        },
        "ac248d910fde4339ae4a53b00c36cf03": {
          "model_module": "@jupyter-widgets/controls",
          "model_name": "ButtonStyleModel",
          "model_module_version": "1.5.0",
          "state": {
            "_model_module": "@jupyter-widgets/controls",
            "_model_module_version": "1.5.0",
            "_model_name": "ButtonStyleModel",
            "_view_count": null,
            "_view_module": "@jupyter-widgets/base",
            "_view_module_version": "1.2.0",
            "_view_name": "StyleView",
            "button_color": null,
            "font_weight": ""
          }
        }
      }
    },
    "accelerator": "GPU"
  },
  "nbformat": 4,
  "nbformat_minor": 0
}